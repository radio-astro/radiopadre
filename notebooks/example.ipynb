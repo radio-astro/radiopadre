{
 "cells": [
  {
   "cell_type": "markdown",
   "metadata": {},
   "source": [
    "# Quick example notebook for radiopadre\n",
    "\n",
    "The example below show how to use the radiopadre machinery. \n",
    "\n",
    "You must select \"Cell|Run All\" from the above menu to (re)run the notebook, and wait for it to finish rendering.\n",
    "\n",
    "This particular notebook is built for the example data directory in the radiopadre github repo. But it will probably work well enough with any directory containing fits files and images."
   ]
  },
  {
   "cell_type": "code",
   "execution_count": null,
   "metadata": {
    "scrolled": true
   },
   "outputs": [],
   "source": [
    "### mandatory init\n",
    "%matplotlib inline\n",
    "from radiopadre import lsd\n",
    "###\n",
    "dirs = lsd()"
   ]
  },
  {
   "cell_type": "markdown",
   "metadata": {},
   "source": [
    "The ``lsd()`` command returns a list of (sub)directories, starting from the current one. Note that if invoked as the last statement in the cell, the list can render itself in a pretty way. This principle holds for many Radiopadre objects."
   ]
  },
  {
   "cell_type": "code",
   "execution_count": null,
   "metadata": {},
   "outputs": [],
   "source": [
    "dirs"
   ]
  },
  {
   "cell_type": "code",
   "execution_count": null,
   "metadata": {
    "scrolled": true
   },
   "outputs": [],
   "source": [
    "root = dirs[0]   # it is a list after all -- get first directory in the list\n",
    "root.fits        # get list of FITS files in this directory"
   ]
  },
  {
   "cell_type": "code",
   "execution_count": null,
   "metadata": {},
   "outputs": [],
   "source": [
    "# displays thumbnails for first four FITS files\n",
    "root.fits[:4].thumbs()"
   ]
  },
  {
   "cell_type": "code",
   "execution_count": null,
   "metadata": {},
   "outputs": [],
   "source": [
    "# same, but uses optional \"zoom\" argument to zoom into central section\n",
    "root.fits[:4].thumbs(zoom=2)"
   ]
  },
  {
   "cell_type": "code",
   "execution_count": null,
   "metadata": {},
   "outputs": [],
   "source": [
    "# gives list of FITS files matching the pattern\n",
    "root.fits(\"*restored*\")"
   ]
  },
  {
   "cell_type": "code",
   "execution_count": null,
   "metadata": {},
   "outputs": [],
   "source": [
    "root.fits(\"*restored*\").show()\n",
    "root.fits(\"*restored*\").thumbs()"
   ]
  },
  {
   "cell_type": "code",
   "execution_count": null,
   "metadata": {},
   "outputs": [],
   "source": [
    "# list of images (PNG, JPG, etc.) in directory #3\n",
    "root.images"
   ]
  },
  {
   "cell_type": "code",
   "execution_count": null,
   "metadata": {},
   "outputs": [],
   "source": [
    "# clickable thumbnails of same\n",
    "root.images.thumbs(ncol=6)"
   ]
  },
  {
   "cell_type": "code",
   "execution_count": null,
   "metadata": {},
   "outputs": [],
   "source": [
    "# first FITS file in directory #0. Stokes axis is unrolled by default (if it exists), but this can be controlled by\n",
    "# invoking dirs[0].fits[0].show() with some extra arguments. Try this on a file with an actual Stokes axis...\n",
    "root.fits[0]"
   ]
  },
  {
   "cell_type": "code",
   "execution_count": null,
   "metadata": {
    "scrolled": true
   },
   "outputs": [],
   "source": [
    "# and this shows how to invoke show() on a FITS file with some explicit arguments to control the rendering\n",
    "root.fits[0].show(unroll=None,vmin=0,vmax=.1,zoom=4)"
   ]
  },
  {
   "cell_type": "code",
   "execution_count": null,
   "metadata": {},
   "outputs": [],
   "source": [
    "# just some info about the given file\n",
    "root.fits[0].info()"
   ]
  },
  {
   "cell_type": "code",
   "execution_count": null,
   "metadata": {},
   "outputs": [],
   "source": [
    "# A more elaborate rendering of the same file using aplpy. Note that .fullpath gives you the path to the file.\n",
    "# aplpy is quite slow so we don't use it by default for all files, but this example shows you how to do\n",
    "# a proper rendering\n",
    "import aplpy\n",
    "import matplotlib.pyplot as plt\n",
    "\n",
    "fig = aplpy.FITSFigure(root.fits[0].fullpath,slices=[0,0])\n",
    "fig.show_colorscale(cmap='gist_heat',vmin=0,vmax=.1)\n",
    "fig.add_colorbar()"
   ]
  }
 ],
 "metadata": {
  "kernelspec": {
   "display_name": "radiopadre",
   "language": "python",
   "name": "radiopadre"
  },
  "language_info": {
   "codemirror_mode": {
    "name": "ipython",
    "version": 2
   },
   "file_extension": ".py",
   "mimetype": "text/x-python",
   "name": "python",
   "nbconvert_exporter": "python",
   "pygments_lexer": "ipython2",
   "version": "2.7.12"
  },
  "radiopadre_notebook_scrub": true
 },
 "nbformat": 4,
 "nbformat_minor": 1
}
