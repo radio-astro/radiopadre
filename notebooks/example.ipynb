{
 "cells": [
  {
   "cell_type": "markdown",
   "metadata": {},
   "source": [
    "# Quick example notebook for padre\n",
    "\n",
    "The example below show how to use the padre machinery. \n",
    "\n",
    "You must select \"Cell|Run All\" from the above menu to (re)run the notebook, and wait for it to finish rendering.\n",
    "\n",
    "This particular notebook is built for the example data directory in the padre github repo. But it will probably work well enough with any directory containing fits files and images."
   ]
  },
  {
   "cell_type": "code",
   "execution_count": null,
   "metadata": {
    "collapsed": false,
    "scrolled": true
   },
   "outputs": [],
   "source": [
    "### mandatory init\n",
    "%matplotlib inline\n",
    "from padre import DirList\n",
    "### \n",
    "# dirs is a directory list object\n",
    "# It recursively includes all directories under your results directory \n",
    "# dirs.show() will have the same effect\n",
    "dirs = DirList('../data/')\n",
    "dirs"
   ]
  },
  {
   "cell_type": "code",
   "execution_count": null,
   "metadata": {
    "collapsed": false
   },
   "outputs": [],
   "source": [
    "root = dirs[0]\n",
    "root"
   ]
  },
  {
   "cell_type": "code",
   "execution_count": null,
   "metadata": {
    "collapsed": false
   },
   "outputs": [],
   "source": [
    "root.fits  # gives list of FITS files in directory #0 above"
   ]
  },
  {
   "cell_type": "code",
   "execution_count": null,
   "metadata": {
    "collapsed": false
   },
   "outputs": [],
   "source": [
    "# displays thumbnails for all FITS files in directory #0\n",
    "root.fits.thumbs()"
   ]
  },
  {
   "cell_type": "code",
   "execution_count": null,
   "metadata": {
    "collapsed": false
   },
   "outputs": [],
   "source": [
    "root.fits.thumbs(zoom=2)"
   ]
  },
  {
   "cell_type": "code",
   "execution_count": null,
   "metadata": {
    "collapsed": false
   },
   "outputs": [],
   "source": [
    "# gives list of FITS files matching the pattern\n",
    "root.fits(\"*restored*\")"
   ]
  },
  {
   "cell_type": "code",
   "execution_count": null,
   "metadata": {
    "collapsed": false
   },
   "outputs": [],
   "source": [
    "root.fits(\"*restored*\").show()\n",
    "root.fits(\"*restored*\").thumbs()"
   ]
  },
  {
   "cell_type": "code",
   "execution_count": null,
   "metadata": {
    "collapsed": false
   },
   "outputs": [],
   "source": [
    "# list of images (PNG, JPG, etc.) in directory #3\n",
    "root.images"
   ]
  },
  {
   "cell_type": "code",
   "execution_count": null,
   "metadata": {
    "collapsed": false
   },
   "outputs": [],
   "source": [
    "# clickable thumbnails of same\n",
    "root.images.thumbs(ncol=6)"
   ]
  },
  {
   "cell_type": "code",
   "execution_count": null,
   "metadata": {
    "collapsed": false
   },
   "outputs": [],
   "source": [
    "# first FITS file in directory #0. Stokes axis is unrolled by default (if it exists), but this can be controlled by\n",
    "# invoking dirs[0].fits[0].show() with some extra arguments. Try this on a file with an actual Stokes axis...\n",
    "root.fits[0]"
   ]
  },
  {
   "cell_type": "code",
   "execution_count": null,
   "metadata": {
    "collapsed": false,
    "scrolled": true
   },
   "outputs": [],
   "source": [
    "# and this shows how to invoke show() on a FITS file with some explicit arguments to control the rendering\n",
    "root.fits[0].show(unroll=None,vmin=-5e-5,vmax=5e-5,zoom=4)"
   ]
  },
  {
   "cell_type": "code",
   "execution_count": null,
   "metadata": {
    "collapsed": false
   },
   "outputs": [],
   "source": [
    "# just some info about the given file\n",
    "root.fits[0].info()"
   ]
  },
  {
   "cell_type": "code",
   "execution_count": null,
   "metadata": {
    "collapsed": false
   },
   "outputs": [],
   "source": [
    "# A more elaborate rendering of the same file using aplpy. Note that .fullpath gives you the path to the file.\n",
    "# aplpy is quite slow so we don't use it by default for all files, but this example shows you how to do\n",
    "# a proper rendering\n",
    "import aplpy\n",
    "import matplotlib.pyplot as plt\n",
    "\n",
    "fig = aplpy.FITSFigure(root.fits[0].fullpath,slices=[0,0])\n",
    "fig.show_colorscale(cmap='gist_heat',vmin=-5e-5,vmax=5e-5)\n",
    "fig.add_colorbar()"
   ]
  }
 ],
 "metadata": {
  "kernelspec": {
   "display_name": "Python 2",
   "language": "python",
   "name": "python2"
  },
  "language_info": {
   "codemirror_mode": {
    "name": "ipython",
    "version": 2
   },
   "file_extension": ".py",
   "mimetype": "text/x-python",
   "name": "python",
   "nbconvert_exporter": "python",
   "pygments_lexer": "ipython2",
   "version": "2.7.6"
  }
 },
 "nbformat": 4,
 "nbformat_minor": 0
}
