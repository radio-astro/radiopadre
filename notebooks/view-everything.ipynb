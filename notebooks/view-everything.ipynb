{
 "cells": [
  {
   "cell_type": "markdown",
   "metadata": {},
   "source": [
    "# Padre notebook that renders everything in your directory \n",
    "\n",
    "You must select \"Cell|Run All\" from the above menu to (re)run the notebook, and wait for it to finish rendering.\n",
    "\n",
    "This notebook simply renders everything it finds in the first two directories.\n",
    "\n",
    "Use with caution! Remove [0:2] if you really want to see *everything*. This can spiral out of control if your directory is very large.\n"
   ]
  },
  {
   "cell_type": "code",
   "execution_count": 1,
   "metadata": {
    "collapsed": false,
    "scrolled": true
   },
   "outputs": [
    {
     "data": {
      "text/html": [
       "<b>.[0:2]</b>no content"
      ],
      "text/plain": [
       "[]"
      ]
     },
     "execution_count": 1,
     "metadata": {},
     "output_type": "execute_result"
    }
   ],
   "source": [
    "### mandatory init\n",
    "%matplotlib inline\n",
    "from radiopadre import DirList\n",
    "dirs = DirList()\n",
    "dirs[0:2]"
   ]
  },
  {
   "cell_type": "code",
   "execution_count": 2,
   "metadata": {
    "collapsed": false
   },
   "outputs": [],
   "source": [
    "for d in dirs[0:2]:\n",
    "    if d.fits:\n",
    "        d.fits.thumbs()\n",
    "    if d.images:\n",
    "        d.images.thumbs()"
   ]
  }
 ],
 "metadata": {
  "kernelspec": {
   "display_name": "Python 2",
   "language": "python",
   "name": "python2"
  },
  "language_info": {
   "codemirror_mode": {
    "name": "ipython",
    "version": 2
   },
   "file_extension": ".py",
   "mimetype": "text/x-python",
   "name": "python",
   "nbconvert_exporter": "python",
   "pygments_lexer": "ipython2",
   "version": "2.7.9"
  }
 },
 "nbformat": 4,
 "nbformat_minor": 0
}
