{
 "cells": [
  {
   "cell_type": "markdown",
   "metadata": {},
   "source": [
    "# Padre notebook that lists everything in your directory \n",
    "\n",
    "You must select \"Cell|Run All\" from the above menu to (re)run the notebook, and wait for it to finish rendering.\n",
    "\n",
    "This notebook simply lists all FITS files and images it finds.\n"
   ]
  },
  {
   "cell_type": "code",
   "execution_count": null,
   "metadata": {
    "collapsed": false,
    "scrolled": true
   },
   "outputs": [],
   "source": [
    "### mandatory init\n",
    "%matplotlib inline\n",
    "from radiopadre import DirList\n",
    "dirs = DirList(\"data\")\n",
    "dirs"
   ]
  },
  {
   "cell_type": "code",
   "execution_count": null,
   "metadata": {
    "collapsed": false
   },
   "outputs": [],
   "source": [
    "dirs.show()\n",
    "for d in dirs:\n",
    "    if d.fits:\n",
    "        d.fits.show()\n",
    "    if d.images:\n",
    "        d.images.show()"
   ]
  }
 ],
 "metadata": {
  "kernelspec": {
   "display_name": "Python 2",
   "language": "python",
   "name": "python2"
  },
  "language_info": {
   "codemirror_mode": {
    "name": "ipython",
    "version": 2
   },
   "file_extension": ".py",
   "mimetype": "text/x-python",
   "name": "python",
   "nbconvert_exporter": "python",
   "pygments_lexer": "ipython2",
   "version": "2.7.6"
  },
  "radiopadre_notebook_scrub": true
 },
 "nbformat": 4,
 "nbformat_minor": 0
}
