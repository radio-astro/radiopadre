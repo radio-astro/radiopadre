{
 "cells": [
  {
   "cell_type": "code",
   "execution_count": null,
   "metadata": {},
   "outputs": [],
   "source": [
    "%matplotlib inline\n",
    "import radiopadre\n",
    "import pyjs9, pprint\n",
    "from IPython.display import display, HTML\n",
    "\n",
    "import ipywidgets as widgets\n",
    "root_dir=radiopadre.DataDir('../data/outputs')\n",
    "#rfil=root_dir[0][1]\n",
    "#root_dir.files.list_to_string('data')\n",
    "root_dir\n",
    "#x = root_dir"
   ]
  },
  {
   "cell_type": "code",
   "execution_count": null,
   "metadata": {},
   "outputs": [],
   "source": [
    "%pprint\n",
    "x._repr_html_()"
   ]
  },
  {
   "cell_type": "code",
   "execution_count": null,
   "metadata": {},
   "outputs": [],
   "source": [
    "button=widgets.Button(\n",
    "                    description='js9',\n",
    "                    disabled=False,\n",
    "                    button_style='', # 'success', 'info', 'warning', 'danger' or ''\n",
    "                    tooltip='Click me',\n",
    "                    icon=''\n",
    "                    )\n",
    "def on_button_clicked(b):\n",
    "    j=pyjs9.JS9()\n",
    "    j.Load('../data/outputs/meerkathi-pipeline_2-MFS-image.fits')\n",
    "display(button)\n",
    "button.on_click(on_button_clicked)"
   ]
  },
  {
   "cell_type": "code",
   "execution_count": null,
   "metadata": {},
   "outputs": [],
   "source": [
    "%%html\n",
    "\n",
    "<head>\n",
    "  <meta http-equiv=\"Content-Type\" content=\"text/html; charset=utf-8\">\n",
    "  <meta http-equiv=\"X-UA-Compatible\" content=\"IE=Edge;chrome=1\" > \n",
    "  <meta name=\"viewport\" content=\"width=device-width, initial-scale=1\">\n",
    "  <link type=\"image/x-icon\" rel=\"shortcut icon\" href=\"./favicon.ico\">\n",
    "  <link type=\"text/css\" rel=\"stylesheet\" href=\"../js9-2.0.2/js9support.css\">\n",
    "  <link type=\"text/css\" rel=\"stylesheet\" href=\"../js9-2.0.2/js9.css\">\n",
    "  <script type=\"text/javascript\" src=\"../js9-2.0.2/js9prefs.js\"></script>\n",
    "  <script type=\"text/javascript\" src=\"../js9-2.0.2/js9support.min.js\"></script>\n",
    "  <script type=\"text/javascript\" src=\"../js9-2.0.2/js9.min.js\"></script>\n",
    "  <script type=\"text/javascript\" src=\"../js9-2.0.2/js9plugins.js\"></script>\n",
    "  <style type=\"text/css\">\n",
    "      #centerdiv {\n",
    "      width: 512px;\n",
    "      margin-left: auto ;\n",
    "      margin-right: auto ;\n",
    "      }\n",
    "  </style>\n",
    "  <title>JS9 basics</title>\n",
    "</head>\n",
    "<body onload=\"loadIm()\">\n",
    "<p>thaovdnoaejoa</p>\n",
    "    <script>\n",
    "    function loadIm(){\n",
    "       \n",
    "       console.log(\"this\")\n",
    "        }\n",
    "    </script>\n",
    "</body>\n",
    "</html>"
   ]
  },
  {
   "cell_type": "markdown",
   "metadata": {},
   "source": [
    "#### The Following ls to be used to get the port the kernel is currently operating on "
   ]
  },
  {
   "cell_type": "code",
   "execution_count": null,
   "metadata": {},
   "outputs": [],
   "source": [
    "%%javascript\n",
    "var nb = Jupyter.notebook;\n",
    "var port = window.location.port;\n",
    "//nb.kernel.execute(\"NB_Port = '\" + port + \"'\");\n",
    "console.log(\"Logged in at port: \",port);\n",
    "//prints the current port number"
   ]
  },
  {
   "cell_type": "code",
   "execution_count": null,
   "metadata": {},
   "outputs": [],
   "source": [
    "from notebook import notebookapp\n",
    "servers = list(notebookapp.list_running_servers())\n",
    "for server in servers:\n",
    "        if \"radiopadre\" in server['notebook_dir']:\n",
    "            radiopadrePort=server['port']\n",
    "            break\n",
    "#url=\"http://localhost:\"+str(radiopadrePort)+\"/files/js9-2.0.2/js9basics.html\"\n",
    "url=\"../js9-2.0.2/js9basics.html\"\n",
    "#nutext=\"<td><a id=\"fitsy\" href=\\\"%s\\\" target=\\\"_blank\\\"><button onclick=>JS9</button></a></td>\"%(url)\n",
    "\n",
    "with open(url,'r') as inp:\n",
    "    data=inp.readlines()\n",
    "    \n",
    "import pprint\n",
    "for i,z in enumerate(data):\n",
    "    print str(i) + ' : '+z\n",
    "print data[31]  \n",
    "data[31]=None\n",
    "data[31]='''    <li> <a href='javascript:JS9.Load(\"../data/outputs/meerkathi-pipeline_1-MFS-dirty.fits\", {scale:\"log\", parentFile:\"fits/casa.fits\"});'>CAS-A (Chandra mama)</a>\\n'''\n",
    "print data[31]  \n",
    "with open(url,'w') as outp:\n",
    "    outp.writelines(data)\n",
    "\n",
    "print \"After \\n\\n\"\n",
    "for i,z in enumerate(data):\n",
    "    print str(i) + ' : '+z\n",
    "data=None"
   ]
  },
  {
   "cell_type": "markdown",
   "metadata": {},
   "source": [
    "the ```%%writefile filename```  magic command allows you to directly create files\n",
    "named whatever you want it to be named."
   ]
  },
  {
   "cell_type": "code",
   "execution_count": null,
   "metadata": {},
   "outputs": [],
   "source": [
    "import bs4, requests\n",
    "from IPython.display import display,HTML,Javascript"
   ]
  },
  {
   "cell_type": "markdown",
   "metadata": {},
   "source": [
    "## using beautiful soup to parse html"
   ]
  },
  {
   "cell_type": "code",
   "execution_count": null,
   "metadata": {},
   "outputs": [],
   "source": [
    "url =\"../js9-2.0.2/js9.html\"\n",
    "names=[]\n",
    "for each in \"thisisa warap\":\n",
    "    names.append(each)\n",
    "with open(url) as f:\n",
    "    response=f.read()\n",
    "source=bs4.BeautifulSoup(response)\n",
    "sc=source.find('script',{'id':'lexy'})\n",
    "for i in sc.children:\n",
    "    i.replace_with(\"setTimeout(function loadIm(){JS9.Load('../data/outputs/\"+(names[6])+\"');},2000);\")\n",
    "print source"
   ]
  },
  {
   "cell_type": "code",
   "execution_count": null,
   "metadata": {},
   "outputs": [],
   "source": [
    "from notebook import notebookapp\n",
    "servers = list(notebookapp.list_running_servers())\n",
    "radiopadrePort=0;\n",
    "\n",
    "for server in servers:\n",
    "    if \"radiopadre\" in server['notebook_dir']:\n",
    "        radiopadrePort=server['port']\n",
    "        break\n",
    "#page location in jupyter\n",
    "url=\"http://localhost:\"+str(radiopadrePort)+\"/files/js9-2.0.2/js9.html?name=lexy&age=20\"\n",
    "scr=\"<p>stimela umqombothi yvone chakachaka</p>\"\n",
    "scr+=\"<button onclick='test()'>ting</button><script>function test(){var h=window.open('%s'); var query = window.location.search.substring(1); console.log(query);}</script>\"%url\n",
    "display(HTML(scr))"
   ]
  },
  {
   "cell_type": "code",
   "execution_count": null,
   "metadata": {},
   "outputs": [],
   "source": []
  },
  {
   "cell_type": "code",
   "execution_count": null,
   "metadata": {},
   "outputs": [],
   "source": []
  }
 ],
 "metadata": {
  "kernelspec": {
   "display_name": "Python 2",
   "language": "python",
   "name": "python2"
  },
  "language_info": {
   "codemirror_mode": {
    "name": "ipython",
    "version": 2
   },
   "file_extension": ".py",
   "mimetype": "text/x-python",
   "name": "python",
   "nbconvert_exporter": "python",
   "pygments_lexer": "ipython2",
   "version": "2.7.12"
  },
  "radiopadre_notebook_scrub": true
 },
 "nbformat": 4,
 "nbformat_minor": 2
}
